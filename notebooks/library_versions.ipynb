{
 "cells": [
  {
   "cell_type": "markdown",
   "metadata": {},
   "source": [
    "# Package Versions"
   ]
  },
  {
   "cell_type": "code",
   "execution_count": 1,
   "metadata": {},
   "outputs": [
    {
     "name": "stdout",
     "output_type": "stream",
     "text": [
      "Python 3.12.4\n"
     ]
    }
   ],
   "source": [
    "!python --version"
   ]
  },
  {
   "cell_type": "code",
   "execution_count": 2,
   "metadata": {},
   "outputs": [
    {
     "name": "stdout",
     "output_type": "stream",
     "text": [
      "Versions of the packages:\n",
      "\n",
      "---------------------------------\n",
      "Package              |    Version\n",
      "---------------------------------\n",
      "Imbalanced-Learn     |     0.12.3\n",
      "Matplotlib           |      3.8.4\n",
      "NumPy                |     1.26.4\n",
      "Pandas               |      2.2.2\n",
      "Scikit-Learn         |      1.4.2\n",
      "Seaborn              |     0.13.2\n",
      "\n",
      "---------------------------------\n",
      "Python               |     3.12.4\n"
     ]
    }
   ],
   "source": [
    "import pandas as pd\n",
    "import numpy as np\n",
    "import seaborn as sns\n",
    "import sklearn\n",
    "import matplotlib\n",
    "import imblearn\n",
    "from platform import python_version\n",
    "\n",
    "packages = {\n",
    "    \"Pandas\": pd,\n",
    "    \"NumPy\": np,\n",
    "    \"Seaborn\": sns,\n",
    "    \"Scikit-Learn\": sklearn,\n",
    "    \"Matplotlib\": matplotlib, \n",
    "    \"Imbalanced-Learn\": imblearn,\n",
    "}\n",
    "\n",
    "header = f\"{'Package':<20} | {'Version':>10}\"\n",
    "separator = '-' * len(header)\n",
    "print(\"Versions of the packages:\\n\")\n",
    "print(separator)\n",
    "print(header)\n",
    "print(separator)\n",
    "\n",
    "for name, package in sorted(packages.items()):\n",
    "    print(f\"{name:<20} | {package.__version__:>10}\")\n",
    "print(\"\\n\" + separator)\n",
    "print(f\"{'Python':<20} | {python_version():>10}\")"
   ]
  }
 ],
 "metadata": {
  "kernelspec": {
   "display_name": "Python 3 (ipykernel)",
   "language": "python",
   "name": "python3"
  },
  "language_info": {
   "codemirror_mode": {
    "name": "ipython",
    "version": 3
   },
   "file_extension": ".py",
   "mimetype": "text/x-python",
   "name": "python",
   "nbconvert_exporter": "python",
   "pygments_lexer": "ipython3",
   "version": "3.12.4"
  }
 },
 "nbformat": 4,
 "nbformat_minor": 4
}
